{
 "cells": [
  {
   "cell_type": "markdown",
   "id": "65f75493",
   "metadata": {},
   "source": [
    "Introduction\n",
    "This dataset include data for the estimation of obesity levels in individuals from the countries of Mexico, Peru and Colombia, based on their eating habits and physical condition. The data contains 17 attributes and 2111 records, the records are labeled with the class variable NObesity (Obesity Level), that allows classification of the data using the values of Insufficient Weight, Normal Weight, Overweight Level I, Overweight Level II, Obesity Type I, Obesity Type II and Obesity Type III. 77% of the data was generated synthetically using the Weka tool and the SMOTE filter, 23% of the data was collected directly from users through a web platform.\n",
    "\n",
    "References\n",
    "\n",
    "Palechor, F. M., & de la Hoz Manotas, A. (2019). Dataset for estimation of obesity levels based on eating habits and physical condition in individuals from Colombia, Peru and Mexico. Data in Brief, 104344."
   ]
  },
  {
   "cell_type": "code",
   "execution_count": 120,
   "id": "b90c761b",
   "metadata": {},
   "outputs": [],
   "source": [
    "import numpy as np\n",
    "import pandas as pd\n",
    "import matplotlib.pyplot as plt\n",
    "from scipy import stats\n",
    "from sklearn.model_selection import train_test_split\n",
    "from sklearn.preprocessing import MinMaxScaler\n",
    "from sklearn.linear_model import LinearRegression\n",
    "from sklearn.linear_model import LogisticRegression\n",
    "from sklearn.neighbors import KNeighborsClassifier\n",
    "from sklearn.tree import DecisionTreeClassifier\n",
    "from sklearn.metrics import mean_squared_error, mean_absolute_error \n",
    "from sklearn.metrics import r2_score\n",
    "from IPython.display import display\n",
    "from sklearn.ensemble import RandomForestClassifier\n",
    "from sklearn.svm import SVC\n",
    "from sklearn.naive_bayes import GaussianNB\n",
    "from sklearn.cluster import KMeans\n",
    "from sklearn.metrics import classification_report\n",
    "import seaborn as sns"
   ]
  },
  {
   "cell_type": "code",
   "execution_count": 2,
   "id": "e71bd079",
   "metadata": {
    "scrolled": true
   },
   "outputs": [
    {
     "data": {
      "text/plain": [
       "(2111, 17)"
      ]
     },
     "execution_count": 2,
     "metadata": {},
     "output_type": "execute_result"
    }
   ],
   "source": [
    "df = pd.read_csv('ObesityDataSet_raw_and_data_sinthetic.csv')\n",
    "df.shape\n",
    "\n",
    "\n"
   ]
  },
  {
   "cell_type": "code",
   "execution_count": 3,
   "id": "f2f92a66",
   "metadata": {},
   "outputs": [
    {
     "data": {
      "text/plain": [
       "Gender                            0\n",
       "Age                               0\n",
       "Height                            0\n",
       "Weight                            0\n",
       "family_history_with_overweight    0\n",
       "FAVC                              0\n",
       "FCVC                              0\n",
       "NCP                               0\n",
       "CAEC                              0\n",
       "SMOKE                             0\n",
       "CH2O                              0\n",
       "SCC                               0\n",
       "FAF                               0\n",
       "TUE                               0\n",
       "CALC                              0\n",
       "MTRANS                            0\n",
       "NObeyesdad                        0\n",
       "dtype: int64"
      ]
     },
     "execution_count": 3,
     "metadata": {},
     "output_type": "execute_result"
    }
   ],
   "source": [
    "df.isnull().sum()#check if there is null value"
   ]
  },
  {
   "cell_type": "code",
   "execution_count": 4,
   "id": "eb598b73",
   "metadata": {},
   "outputs": [
    {
     "data": {
      "text/html": [
       "<div>\n",
       "<style scoped>\n",
       "    .dataframe tbody tr th:only-of-type {\n",
       "        vertical-align: middle;\n",
       "    }\n",
       "\n",
       "    .dataframe tbody tr th {\n",
       "        vertical-align: top;\n",
       "    }\n",
       "\n",
       "    .dataframe thead th {\n",
       "        text-align: right;\n",
       "    }\n",
       "</style>\n",
       "<table border=\"1\" class=\"dataframe\">\n",
       "  <thead>\n",
       "    <tr style=\"text-align: right;\">\n",
       "      <th></th>\n",
       "      <th>Gender</th>\n",
       "      <th>Age</th>\n",
       "      <th>Height</th>\n",
       "      <th>Weight</th>\n",
       "      <th>family_history_with_overweight</th>\n",
       "      <th>FAVC</th>\n",
       "      <th>FCVC</th>\n",
       "      <th>NCP</th>\n",
       "      <th>CAEC</th>\n",
       "      <th>SMOKE</th>\n",
       "      <th>CH2O</th>\n",
       "      <th>SCC</th>\n",
       "      <th>FAF</th>\n",
       "      <th>TUE</th>\n",
       "      <th>CALC</th>\n",
       "      <th>MTRANS</th>\n",
       "      <th>NObeyesdad</th>\n",
       "    </tr>\n",
       "  </thead>\n",
       "  <tbody>\n",
       "    <tr>\n",
       "      <th>0</th>\n",
       "      <td>Female</td>\n",
       "      <td>21.000000</td>\n",
       "      <td>1.620000</td>\n",
       "      <td>64.000000</td>\n",
       "      <td>yes</td>\n",
       "      <td>no</td>\n",
       "      <td>2.0</td>\n",
       "      <td>3.0</td>\n",
       "      <td>Sometimes</td>\n",
       "      <td>no</td>\n",
       "      <td>2.000000</td>\n",
       "      <td>no</td>\n",
       "      <td>0.000000</td>\n",
       "      <td>1.000000</td>\n",
       "      <td>no</td>\n",
       "      <td>Public_Transportation</td>\n",
       "      <td>Normal_Weight</td>\n",
       "    </tr>\n",
       "    <tr>\n",
       "      <th>1</th>\n",
       "      <td>Female</td>\n",
       "      <td>21.000000</td>\n",
       "      <td>1.520000</td>\n",
       "      <td>56.000000</td>\n",
       "      <td>yes</td>\n",
       "      <td>no</td>\n",
       "      <td>3.0</td>\n",
       "      <td>3.0</td>\n",
       "      <td>Sometimes</td>\n",
       "      <td>yes</td>\n",
       "      <td>3.000000</td>\n",
       "      <td>yes</td>\n",
       "      <td>3.000000</td>\n",
       "      <td>0.000000</td>\n",
       "      <td>Sometimes</td>\n",
       "      <td>Public_Transportation</td>\n",
       "      <td>Normal_Weight</td>\n",
       "    </tr>\n",
       "    <tr>\n",
       "      <th>2</th>\n",
       "      <td>Male</td>\n",
       "      <td>23.000000</td>\n",
       "      <td>1.800000</td>\n",
       "      <td>77.000000</td>\n",
       "      <td>yes</td>\n",
       "      <td>no</td>\n",
       "      <td>2.0</td>\n",
       "      <td>3.0</td>\n",
       "      <td>Sometimes</td>\n",
       "      <td>no</td>\n",
       "      <td>2.000000</td>\n",
       "      <td>no</td>\n",
       "      <td>2.000000</td>\n",
       "      <td>1.000000</td>\n",
       "      <td>Frequently</td>\n",
       "      <td>Public_Transportation</td>\n",
       "      <td>Normal_Weight</td>\n",
       "    </tr>\n",
       "    <tr>\n",
       "      <th>3</th>\n",
       "      <td>Male</td>\n",
       "      <td>27.000000</td>\n",
       "      <td>1.800000</td>\n",
       "      <td>87.000000</td>\n",
       "      <td>no</td>\n",
       "      <td>no</td>\n",
       "      <td>3.0</td>\n",
       "      <td>3.0</td>\n",
       "      <td>Sometimes</td>\n",
       "      <td>no</td>\n",
       "      <td>2.000000</td>\n",
       "      <td>no</td>\n",
       "      <td>2.000000</td>\n",
       "      <td>0.000000</td>\n",
       "      <td>Frequently</td>\n",
       "      <td>Walking</td>\n",
       "      <td>Overweight_Level_I</td>\n",
       "    </tr>\n",
       "    <tr>\n",
       "      <th>4</th>\n",
       "      <td>Male</td>\n",
       "      <td>22.000000</td>\n",
       "      <td>1.780000</td>\n",
       "      <td>89.800000</td>\n",
       "      <td>no</td>\n",
       "      <td>no</td>\n",
       "      <td>2.0</td>\n",
       "      <td>1.0</td>\n",
       "      <td>Sometimes</td>\n",
       "      <td>no</td>\n",
       "      <td>2.000000</td>\n",
       "      <td>no</td>\n",
       "      <td>0.000000</td>\n",
       "      <td>0.000000</td>\n",
       "      <td>Sometimes</td>\n",
       "      <td>Public_Transportation</td>\n",
       "      <td>Overweight_Level_II</td>\n",
       "    </tr>\n",
       "    <tr>\n",
       "      <th>...</th>\n",
       "      <td>...</td>\n",
       "      <td>...</td>\n",
       "      <td>...</td>\n",
       "      <td>...</td>\n",
       "      <td>...</td>\n",
       "      <td>...</td>\n",
       "      <td>...</td>\n",
       "      <td>...</td>\n",
       "      <td>...</td>\n",
       "      <td>...</td>\n",
       "      <td>...</td>\n",
       "      <td>...</td>\n",
       "      <td>...</td>\n",
       "      <td>...</td>\n",
       "      <td>...</td>\n",
       "      <td>...</td>\n",
       "      <td>...</td>\n",
       "    </tr>\n",
       "    <tr>\n",
       "      <th>2106</th>\n",
       "      <td>Female</td>\n",
       "      <td>20.976842</td>\n",
       "      <td>1.710730</td>\n",
       "      <td>131.408528</td>\n",
       "      <td>yes</td>\n",
       "      <td>yes</td>\n",
       "      <td>3.0</td>\n",
       "      <td>3.0</td>\n",
       "      <td>Sometimes</td>\n",
       "      <td>no</td>\n",
       "      <td>1.728139</td>\n",
       "      <td>no</td>\n",
       "      <td>1.676269</td>\n",
       "      <td>0.906247</td>\n",
       "      <td>Sometimes</td>\n",
       "      <td>Public_Transportation</td>\n",
       "      <td>Obesity_Type_III</td>\n",
       "    </tr>\n",
       "    <tr>\n",
       "      <th>2107</th>\n",
       "      <td>Female</td>\n",
       "      <td>21.982942</td>\n",
       "      <td>1.748584</td>\n",
       "      <td>133.742943</td>\n",
       "      <td>yes</td>\n",
       "      <td>yes</td>\n",
       "      <td>3.0</td>\n",
       "      <td>3.0</td>\n",
       "      <td>Sometimes</td>\n",
       "      <td>no</td>\n",
       "      <td>2.005130</td>\n",
       "      <td>no</td>\n",
       "      <td>1.341390</td>\n",
       "      <td>0.599270</td>\n",
       "      <td>Sometimes</td>\n",
       "      <td>Public_Transportation</td>\n",
       "      <td>Obesity_Type_III</td>\n",
       "    </tr>\n",
       "    <tr>\n",
       "      <th>2108</th>\n",
       "      <td>Female</td>\n",
       "      <td>22.524036</td>\n",
       "      <td>1.752206</td>\n",
       "      <td>133.689352</td>\n",
       "      <td>yes</td>\n",
       "      <td>yes</td>\n",
       "      <td>3.0</td>\n",
       "      <td>3.0</td>\n",
       "      <td>Sometimes</td>\n",
       "      <td>no</td>\n",
       "      <td>2.054193</td>\n",
       "      <td>no</td>\n",
       "      <td>1.414209</td>\n",
       "      <td>0.646288</td>\n",
       "      <td>Sometimes</td>\n",
       "      <td>Public_Transportation</td>\n",
       "      <td>Obesity_Type_III</td>\n",
       "    </tr>\n",
       "    <tr>\n",
       "      <th>2109</th>\n",
       "      <td>Female</td>\n",
       "      <td>24.361936</td>\n",
       "      <td>1.739450</td>\n",
       "      <td>133.346641</td>\n",
       "      <td>yes</td>\n",
       "      <td>yes</td>\n",
       "      <td>3.0</td>\n",
       "      <td>3.0</td>\n",
       "      <td>Sometimes</td>\n",
       "      <td>no</td>\n",
       "      <td>2.852339</td>\n",
       "      <td>no</td>\n",
       "      <td>1.139107</td>\n",
       "      <td>0.586035</td>\n",
       "      <td>Sometimes</td>\n",
       "      <td>Public_Transportation</td>\n",
       "      <td>Obesity_Type_III</td>\n",
       "    </tr>\n",
       "    <tr>\n",
       "      <th>2110</th>\n",
       "      <td>Female</td>\n",
       "      <td>23.664709</td>\n",
       "      <td>1.738836</td>\n",
       "      <td>133.472641</td>\n",
       "      <td>yes</td>\n",
       "      <td>yes</td>\n",
       "      <td>3.0</td>\n",
       "      <td>3.0</td>\n",
       "      <td>Sometimes</td>\n",
       "      <td>no</td>\n",
       "      <td>2.863513</td>\n",
       "      <td>no</td>\n",
       "      <td>1.026452</td>\n",
       "      <td>0.714137</td>\n",
       "      <td>Sometimes</td>\n",
       "      <td>Public_Transportation</td>\n",
       "      <td>Obesity_Type_III</td>\n",
       "    </tr>\n",
       "  </tbody>\n",
       "</table>\n",
       "<p>2087 rows × 17 columns</p>\n",
       "</div>"
      ],
      "text/plain": [
       "      Gender        Age    Height      Weight family_history_with_overweight  \\\n",
       "0     Female  21.000000  1.620000   64.000000                            yes   \n",
       "1     Female  21.000000  1.520000   56.000000                            yes   \n",
       "2       Male  23.000000  1.800000   77.000000                            yes   \n",
       "3       Male  27.000000  1.800000   87.000000                             no   \n",
       "4       Male  22.000000  1.780000   89.800000                             no   \n",
       "...      ...        ...       ...         ...                            ...   \n",
       "2106  Female  20.976842  1.710730  131.408528                            yes   \n",
       "2107  Female  21.982942  1.748584  133.742943                            yes   \n",
       "2108  Female  22.524036  1.752206  133.689352                            yes   \n",
       "2109  Female  24.361936  1.739450  133.346641                            yes   \n",
       "2110  Female  23.664709  1.738836  133.472641                            yes   \n",
       "\n",
       "     FAVC  FCVC  NCP       CAEC SMOKE      CH2O  SCC       FAF       TUE  \\\n",
       "0      no   2.0  3.0  Sometimes    no  2.000000   no  0.000000  1.000000   \n",
       "1      no   3.0  3.0  Sometimes   yes  3.000000  yes  3.000000  0.000000   \n",
       "2      no   2.0  3.0  Sometimes    no  2.000000   no  2.000000  1.000000   \n",
       "3      no   3.0  3.0  Sometimes    no  2.000000   no  2.000000  0.000000   \n",
       "4      no   2.0  1.0  Sometimes    no  2.000000   no  0.000000  0.000000   \n",
       "...   ...   ...  ...        ...   ...       ...  ...       ...       ...   \n",
       "2106  yes   3.0  3.0  Sometimes    no  1.728139   no  1.676269  0.906247   \n",
       "2107  yes   3.0  3.0  Sometimes    no  2.005130   no  1.341390  0.599270   \n",
       "2108  yes   3.0  3.0  Sometimes    no  2.054193   no  1.414209  0.646288   \n",
       "2109  yes   3.0  3.0  Sometimes    no  2.852339   no  1.139107  0.586035   \n",
       "2110  yes   3.0  3.0  Sometimes    no  2.863513   no  1.026452  0.714137   \n",
       "\n",
       "            CALC                 MTRANS           NObeyesdad  \n",
       "0             no  Public_Transportation        Normal_Weight  \n",
       "1      Sometimes  Public_Transportation        Normal_Weight  \n",
       "2     Frequently  Public_Transportation        Normal_Weight  \n",
       "3     Frequently                Walking   Overweight_Level_I  \n",
       "4      Sometimes  Public_Transportation  Overweight_Level_II  \n",
       "...          ...                    ...                  ...  \n",
       "2106   Sometimes  Public_Transportation     Obesity_Type_III  \n",
       "2107   Sometimes  Public_Transportation     Obesity_Type_III  \n",
       "2108   Sometimes  Public_Transportation     Obesity_Type_III  \n",
       "2109   Sometimes  Public_Transportation     Obesity_Type_III  \n",
       "2110   Sometimes  Public_Transportation     Obesity_Type_III  \n",
       "\n",
       "[2087 rows x 17 columns]"
      ]
     },
     "execution_count": 4,
     "metadata": {},
     "output_type": "execute_result"
    }
   ],
   "source": [
    "df=df.drop_duplicates()#check if there is duplicates and delete duplicates \n",
    "df"
   ]
  },
  {
   "cell_type": "code",
   "execution_count": null,
   "id": "05e49736",
   "metadata": {},
   "outputs": [],
   "source": []
  },
  {
   "cell_type": "code",
   "execution_count": 5,
   "id": "d09d95fe",
   "metadata": {},
   "outputs": [
    {
     "name": "stdout",
     "output_type": "stream",
     "text": [
      "<class 'pandas.core.frame.DataFrame'>\n",
      "Int64Index: 2087 entries, 0 to 2110\n",
      "Data columns (total 17 columns):\n",
      " #   Column                          Non-Null Count  Dtype  \n",
      "---  ------                          --------------  -----  \n",
      " 0   Gender                          2087 non-null   object \n",
      " 1   Age                             2087 non-null   float64\n",
      " 2   Height                          2087 non-null   float64\n",
      " 3   Weight                          2087 non-null   float64\n",
      " 4   family_history_with_overweight  2087 non-null   object \n",
      " 5   FAVC                            2087 non-null   object \n",
      " 6   FCVC                            2087 non-null   float64\n",
      " 7   NCP                             2087 non-null   float64\n",
      " 8   CAEC                            2087 non-null   object \n",
      " 9   SMOKE                           2087 non-null   object \n",
      " 10  CH2O                            2087 non-null   float64\n",
      " 11  SCC                             2087 non-null   object \n",
      " 12  FAF                             2087 non-null   float64\n",
      " 13  TUE                             2087 non-null   float64\n",
      " 14  CALC                            2087 non-null   object \n",
      " 15  MTRANS                          2087 non-null   object \n",
      " 16  NObeyesdad                      2087 non-null   object \n",
      "dtypes: float64(8), object(9)\n",
      "memory usage: 293.5+ KB\n"
     ]
    }
   ],
   "source": [
    "df.info()\n",
    "#5 FAVC (Frequent consumption of high caloric food)\n",
    "#6 FCVC (Frequency of Consumption of Vegetables)\n",
    "#7 NCP  (Number of Main Meals)\n",
    "#8 CAEC Consumption of food between meals\n",
    "#10 CH20 (Consumption of Water Daily)\n",
    "#11 SCC  (Calories consumption monitoring）\n",
    "#12 FAF  (Physical Activity Frequency)\n",
    "#13 TUE (Time Using Technology Devices)\n",
    "#14 CALC (Consumption of alcohol)\n",
    "#15 MTRANS(Transportation used)\n",
    "#15 NObeyesdad (Obesity Types)\n",
    " \n",
    "\n",
    "\n",
    "\n"
   ]
  },
  {
   "cell_type": "code",
   "execution_count": 6,
   "id": "31879ed7",
   "metadata": {},
   "outputs": [
    {
     "data": {
      "text/html": [
       "<div>\n",
       "<style scoped>\n",
       "    .dataframe tbody tr th:only-of-type {\n",
       "        vertical-align: middle;\n",
       "    }\n",
       "\n",
       "    .dataframe tbody tr th {\n",
       "        vertical-align: top;\n",
       "    }\n",
       "\n",
       "    .dataframe thead th {\n",
       "        text-align: right;\n",
       "    }\n",
       "</style>\n",
       "<table border=\"1\" class=\"dataframe\">\n",
       "  <thead>\n",
       "    <tr style=\"text-align: right;\">\n",
       "      <th></th>\n",
       "      <th>Age</th>\n",
       "      <th>Height</th>\n",
       "      <th>Weight</th>\n",
       "      <th>FCVC</th>\n",
       "      <th>NCP</th>\n",
       "      <th>CH2O</th>\n",
       "      <th>FAF</th>\n",
       "      <th>TUE</th>\n",
       "    </tr>\n",
       "  </thead>\n",
       "  <tbody>\n",
       "    <tr>\n",
       "      <th>count</th>\n",
       "      <td>2087.000000</td>\n",
       "      <td>2087.000000</td>\n",
       "      <td>2087.000000</td>\n",
       "      <td>2087.000000</td>\n",
       "      <td>2087.000000</td>\n",
       "      <td>2087.000000</td>\n",
       "      <td>2087.000000</td>\n",
       "      <td>2087.000000</td>\n",
       "    </tr>\n",
       "    <tr>\n",
       "      <th>mean</th>\n",
       "      <td>24.353090</td>\n",
       "      <td>1.702674</td>\n",
       "      <td>86.858730</td>\n",
       "      <td>2.421466</td>\n",
       "      <td>2.701179</td>\n",
       "      <td>2.004749</td>\n",
       "      <td>1.012812</td>\n",
       "      <td>0.663035</td>\n",
       "    </tr>\n",
       "    <tr>\n",
       "      <th>std</th>\n",
       "      <td>6.368801</td>\n",
       "      <td>0.093186</td>\n",
       "      <td>26.190847</td>\n",
       "      <td>0.534737</td>\n",
       "      <td>0.764614</td>\n",
       "      <td>0.608284</td>\n",
       "      <td>0.853475</td>\n",
       "      <td>0.608153</td>\n",
       "    </tr>\n",
       "    <tr>\n",
       "      <th>min</th>\n",
       "      <td>14.000000</td>\n",
       "      <td>1.450000</td>\n",
       "      <td>39.000000</td>\n",
       "      <td>1.000000</td>\n",
       "      <td>1.000000</td>\n",
       "      <td>1.000000</td>\n",
       "      <td>0.000000</td>\n",
       "      <td>0.000000</td>\n",
       "    </tr>\n",
       "    <tr>\n",
       "      <th>25%</th>\n",
       "      <td>19.915937</td>\n",
       "      <td>1.630178</td>\n",
       "      <td>66.000000</td>\n",
       "      <td>2.000000</td>\n",
       "      <td>2.697467</td>\n",
       "      <td>1.590922</td>\n",
       "      <td>0.124505</td>\n",
       "      <td>0.000000</td>\n",
       "    </tr>\n",
       "    <tr>\n",
       "      <th>50%</th>\n",
       "      <td>22.847618</td>\n",
       "      <td>1.701584</td>\n",
       "      <td>83.101100</td>\n",
       "      <td>2.396265</td>\n",
       "      <td>3.000000</td>\n",
       "      <td>2.000000</td>\n",
       "      <td>1.000000</td>\n",
       "      <td>0.630866</td>\n",
       "    </tr>\n",
       "    <tr>\n",
       "      <th>75%</th>\n",
       "      <td>26.000000</td>\n",
       "      <td>1.769491</td>\n",
       "      <td>108.015907</td>\n",
       "      <td>3.000000</td>\n",
       "      <td>3.000000</td>\n",
       "      <td>2.466193</td>\n",
       "      <td>1.678102</td>\n",
       "      <td>1.000000</td>\n",
       "    </tr>\n",
       "    <tr>\n",
       "      <th>max</th>\n",
       "      <td>61.000000</td>\n",
       "      <td>1.980000</td>\n",
       "      <td>173.000000</td>\n",
       "      <td>3.000000</td>\n",
       "      <td>4.000000</td>\n",
       "      <td>3.000000</td>\n",
       "      <td>3.000000</td>\n",
       "      <td>2.000000</td>\n",
       "    </tr>\n",
       "  </tbody>\n",
       "</table>\n",
       "</div>"
      ],
      "text/plain": [
       "               Age       Height       Weight         FCVC          NCP  \\\n",
       "count  2087.000000  2087.000000  2087.000000  2087.000000  2087.000000   \n",
       "mean     24.353090     1.702674    86.858730     2.421466     2.701179   \n",
       "std       6.368801     0.093186    26.190847     0.534737     0.764614   \n",
       "min      14.000000     1.450000    39.000000     1.000000     1.000000   \n",
       "25%      19.915937     1.630178    66.000000     2.000000     2.697467   \n",
       "50%      22.847618     1.701584    83.101100     2.396265     3.000000   \n",
       "75%      26.000000     1.769491   108.015907     3.000000     3.000000   \n",
       "max      61.000000     1.980000   173.000000     3.000000     4.000000   \n",
       "\n",
       "              CH2O          FAF          TUE  \n",
       "count  2087.000000  2087.000000  2087.000000  \n",
       "mean      2.004749     1.012812     0.663035  \n",
       "std       0.608284     0.853475     0.608153  \n",
       "min       1.000000     0.000000     0.000000  \n",
       "25%       1.590922     0.124505     0.000000  \n",
       "50%       2.000000     1.000000     0.630866  \n",
       "75%       2.466193     1.678102     1.000000  \n",
       "max       3.000000     3.000000     2.000000  "
      ]
     },
     "execution_count": 6,
     "metadata": {},
     "output_type": "execute_result"
    }
   ],
   "source": [
    "df.describe()\n"
   ]
  },
  {
   "cell_type": "code",
   "execution_count": 7,
   "id": "a3f0efb2",
   "metadata": {},
   "outputs": [
    {
     "data": {
      "text/plain": [
       "array(['NW', 'OLI', 'OLII', 'OTI', 'IW', 'OTII', 'OTIII'], dtype=object)"
      ]
     },
     "execution_count": 7,
     "metadata": {},
     "output_type": "execute_result"
    }
   ],
   "source": [
    "corrections = {'Insufficient_Weight':'IW', 'Normal_Weight':'NW', 'Overweight_Level_I':'OLI', 'Overweight_Level_II':'OLII', 'Obesity_Type_I':'OTI', 'Obesity_Type_II':'OTII', 'Obesity_Type_III':'OTIII'}\n",
    "df['NObeyesdad'] = df['NObeyesdad'].replace(corrections)\n",
    "df['NObeyesdad'].unique()"
   ]
  },
  {
   "cell_type": "code",
   "execution_count": 8,
   "id": "26a132b4",
   "metadata": {},
   "outputs": [
    {
     "data": {
      "text/plain": [
       "OTI      351\n",
       "OTIII    324\n",
       "OTII     297\n",
       "OLII     290\n",
       "NW       282\n",
       "OLI      276\n",
       "IW       267\n",
       "Name: NObeyesdad, dtype: int64"
      ]
     },
     "execution_count": 8,
     "metadata": {},
     "output_type": "execute_result"
    }
   ],
   "source": [
    "df['NObeyesdad'].value_counts()"
   ]
  },
  {
   "cell_type": "code",
   "execution_count": 9,
   "id": "92f10533",
   "metadata": {},
   "outputs": [
    {
     "data": {
      "text/html": [
       "<div>\n",
       "<style scoped>\n",
       "    .dataframe tbody tr th:only-of-type {\n",
       "        vertical-align: middle;\n",
       "    }\n",
       "\n",
       "    .dataframe tbody tr th {\n",
       "        vertical-align: top;\n",
       "    }\n",
       "\n",
       "    .dataframe thead th {\n",
       "        text-align: right;\n",
       "    }\n",
       "</style>\n",
       "<table border=\"1\" class=\"dataframe\">\n",
       "  <thead>\n",
       "    <tr style=\"text-align: right;\">\n",
       "      <th></th>\n",
       "      <th>Obesity types</th>\n",
       "      <th>Count</th>\n",
       "    </tr>\n",
       "  </thead>\n",
       "  <tbody>\n",
       "    <tr>\n",
       "      <th>0</th>\n",
       "      <td>OTI</td>\n",
       "      <td>351</td>\n",
       "    </tr>\n",
       "    <tr>\n",
       "      <th>1</th>\n",
       "      <td>OTIII</td>\n",
       "      <td>324</td>\n",
       "    </tr>\n",
       "    <tr>\n",
       "      <th>2</th>\n",
       "      <td>OTII</td>\n",
       "      <td>297</td>\n",
       "    </tr>\n",
       "    <tr>\n",
       "      <th>3</th>\n",
       "      <td>OLII</td>\n",
       "      <td>290</td>\n",
       "    </tr>\n",
       "    <tr>\n",
       "      <th>4</th>\n",
       "      <td>NW</td>\n",
       "      <td>282</td>\n",
       "    </tr>\n",
       "    <tr>\n",
       "      <th>5</th>\n",
       "      <td>OLI</td>\n",
       "      <td>276</td>\n",
       "    </tr>\n",
       "    <tr>\n",
       "      <th>6</th>\n",
       "      <td>IW</td>\n",
       "      <td>267</td>\n",
       "    </tr>\n",
       "  </tbody>\n",
       "</table>\n",
       "</div>"
      ],
      "text/plain": [
       "  Obesity types  Count\n",
       "0           OTI    351\n",
       "1         OTIII    324\n",
       "2          OTII    297\n",
       "3          OLII    290\n",
       "4            NW    282\n",
       "5           OLI    276\n",
       "6            IW    267"
      ]
     },
     "execution_count": 9,
     "metadata": {},
     "output_type": "execute_result"
    }
   ],
   "source": [
    "df11= pd.DataFrame()\n",
    "df11['Obesity types']=['OTI','OTIII','OTII','OLII','NW','OLI','IW']\n",
    "df11['Count']=list(df['NObeyesdad'].value_counts())\n",
    "df11"
   ]
  },
  {
   "cell_type": "code",
   "execution_count": 10,
   "id": "1d9d8fbd",
   "metadata": {},
   "outputs": [
    {
     "data": {
      "text/plain": [
       "<AxesSubplot:title={'center':'Obesity types'}, xlabel='Obesity types', ylabel='Count'>"
      ]
     },
     "execution_count": 10,
     "metadata": {},
     "output_type": "execute_result"
    },
    {
     "data": {
      "image/png": "[encoded data removed]",
      "text/plain": [
       "<Figure size 432x288 with 1 Axes>"
      ]
     },
     "metadata": {
      "needs_background": "light"
     },
     "output_type": "display_data"
    }
   ],
   "source": [
    "plt.title(\"Obesity types\")\n",
    "sns.barplot(x=df11[\"Obesity types\"],y=df11['Count'])\n"
   ]
  },
  {
   "cell_type": "code",
   "execution_count": 11,
   "id": "f2dbb581",
   "metadata": {},
   "outputs": [
    {
     "data": {
      "text/plain": [
       "<AxesSubplot:xlabel='Gender', ylabel='count'>"
      ]
     },
     "execution_count": 11,
     "metadata": {},
     "output_type": "execute_result"
    },
    {
     "data": {
      "image/png": "[encoded data removed]",
      "text/plain": [
       "<Figure size 432x288 with 1 Axes>"
      ]
     },
     "metadata": {
      "needs_background": "light"
     },
     "output_type": "display_data"
    }
   ],
   "source": [
    "sns.countplot(x=\"Gender\", hue=\"NObeyesdad\", data=df)"
   ]
  },
  {
   "cell_type": "code",
   "execution_count": 12,
   "id": "35887b98",
   "metadata": {},
   "outputs": [
    {
     "data": {
      "text/plain": [
       "<AxesSubplot:xlabel='Age', ylabel='NObeyesdad'>"
      ]
     },
     "execution_count": 12,
     "metadata": {},
     "output_type": "execute_result"
    },
    {
     "data": {
      "image/png": "[encoded data removed]",
      "text/plain": [
       "<Figure size 432x288 with 1 Axes>"
      ]
     },
     "metadata": {
      "needs_background": "light"
     },
     "output_type": "display_data"
    }
   ],
   "source": [
    "sns.scatterplot(data = df, x = \"Age\", y = \"NObeyesdad\") # Obesity type III (unter 30) and II also insufficient weight (under 40) only among younger people "
   ]
  },
  {
   "cell_type": "code",
   "execution_count": 13,
   "id": "784ec46a",
   "metadata": {},
   "outputs": [
    {
     "data": {
      "text/plain": [
       "<AxesSubplot:xlabel='Height', ylabel='NObeyesdad'>"
      ]
     },
     "execution_count": 13,
     "metadata": {},
     "output_type": "execute_result"
    },
    {
     "data": {
      "image/png": "[encoded data removed]",
      "text/plain": [
       "<Figure size 432x288 with 1 Axes>"
      ]
     },
     "metadata": {
      "needs_background": "light"
     },
     "output_type": "display_data"
    }
   ],
   "source": [
    "sns.scatterplot(data = df, x = \"Height\", y = \"NObeyesdad\")"
   ]
  },
  {
   "cell_type": "code",
   "execution_count": 14,
   "id": "ec113fac",
   "metadata": {},
   "outputs": [
    {
     "data": {
      "text/plain": [
       "<AxesSubplot:xlabel='Weight', ylabel='NObeyesdad'>"
      ]
     },
     "execution_count": 14,
     "metadata": {},
     "output_type": "execute_result"
    },
    {
     "data": {
      "image/png": "[encoded data removed]",
      "text/plain": [
       "<Figure size 432x288 with 1 Axes>"
      ]
     },
     "metadata": {
      "needs_background": "light"
     },
     "output_type": "display_data"
    }
   ],
   "source": [
    "sns.scatterplot(data = df, x = \"Weight\", y = \"NObeyesdad\")"
   ]
  },
  {
   "cell_type": "code",
   "execution_count": 15,
   "id": "7a953f53",
   "metadata": {},
   "outputs": [
    {
     "data": {
      "text/plain": [
       "yes    1722\n",
       "no      365\n",
       "Name: family_history_with_overweight, dtype: int64"
      ]
     },
     "execution_count": 15,
     "metadata": {},
     "output_type": "execute_result"
    }
   ],
   "source": [
    "df['family_history_with_overweight'].value_counts()"
   ]
  },
  {
   "cell_type": "code",
   "execution_count": 16,
   "id": "7863f385",
   "metadata": {},
   "outputs": [
    {
     "data": {
      "text/plain": [
       "<AxesSubplot:xlabel='family_history_with_overweight', ylabel='count'>"
      ]
     },
     "execution_count": 16,
     "metadata": {},
     "output_type": "execute_result"
    },
    {
     "data": {
      "image/png": "[encoded data removed]",
      "text/plain": [
       "<Figure size 432x288 with 1 Axes>"
      ]
     },
     "metadata": {
      "needs_background": "light"
     },
     "output_type": "display_data"
    }
   ],
   "source": [
    "sns.countplot(x=\"family_history_with_overweight\", hue=\"NObeyesdad\", data=df)"
   ]
  },
  {
   "cell_type": "code",
   "execution_count": 17,
   "id": "d7c9f170",
   "metadata": {},
   "outputs": [
    {
     "data": {
      "text/plain": [
       "yes    1844\n",
       "no      243\n",
       "Name: FAVC, dtype: int64"
      ]
     },
     "execution_count": 17,
     "metadata": {},
     "output_type": "execute_result"
    }
   ],
   "source": [
    "df['FAVC'].value_counts()# Frequent consumption of high caloric food"
   ]
  },
  {
   "cell_type": "code",
   "execution_count": 18,
   "id": "65990710",
   "metadata": {},
   "outputs": [
    {
     "data": {
      "text/plain": [
       "<AxesSubplot:xlabel='FAVC', ylabel='count'>"
      ]
     },
     "execution_count": 18,
     "metadata": {},
     "output_type": "execute_result"
    },
    {
     "data": {
      "image/png": "[encoded data removed]",
      "text/plain": [
       "<Figure size 432x288 with 1 Axes>"
      ]
     },
     "metadata": {
      "needs_background": "light"
     },
     "output_type": "display_data"
    }
   ],
   "source": [
    "sns.countplot(x=\"FAVC\", hue=\"NObeyesdad\", data=df)"
   ]
  },
  {
   "cell_type": "code",
   "execution_count": 19,
   "id": "03b34865",
   "metadata": {},
   "outputs": [],
   "source": [
    "df['FCVC']=df['FCVC'].round(decimals=0)#Frequency of Consumption of Vegetables\n"
   ]
  },
  {
   "cell_type": "code",
   "execution_count": 20,
   "id": "3026dd1c",
   "metadata": {},
   "outputs": [
    {
     "data": {
      "text/plain": [
       "2.0    994\n",
       "3.0    991\n",
       "1.0    102\n",
       "Name: FCVC, dtype: int64"
      ]
     },
     "execution_count": 20,
     "metadata": {},
     "output_type": "execute_result"
    }
   ],
   "source": [
    "df['FCVC'].value_counts()"
   ]
  },
  {
   "cell_type": "code",
   "execution_count": 21,
   "id": "7a17af8f",
   "metadata": {},
   "outputs": [
    {
     "data": {
      "text/plain": [
       "<AxesSubplot:xlabel='FCVC', ylabel='count'>"
      ]
     },
     "execution_count": 21,
     "metadata": {},
     "output_type": "execute_result"
    },
    {
     "data": {
      "image/png": "[encoded data removed]",
      "text/plain": [
       "<Figure size 432x288 with 1 Axes>"
      ]
     },
     "metadata": {
      "needs_background": "light"
     },
     "output_type": "display_data"
    }
   ],
   "source": [
    "sns.countplot(x=\"FCVC\", hue=\"NObeyesdad\", data=df)"
   ]
  },
  {
   "cell_type": "code",
   "execution_count": 22,
   "id": "bb1ded71",
   "metadata": {},
   "outputs": [],
   "source": [
    "df['NCP']=df['NCP'].round(decimals=0)"
   ]
  },
  {
   "cell_type": "code",
   "execution_count": 23,
   "id": "c6f0429c",
   "metadata": {},
   "outputs": [
    {
     "data": {
      "text/plain": [
       "3.0    1466\n",
       "1.0     296\n",
       "2.0     176\n",
       "4.0     149\n",
       "Name: NCP, dtype: int64"
      ]
     },
     "execution_count": 23,
     "metadata": {},
     "output_type": "execute_result"
    }
   ],
   "source": [
    "df['NCP'].value_counts()#Number of Main Meals"
   ]
  },
  {
   "cell_type": "code",
   "execution_count": 24,
   "id": "b4c040bf",
   "metadata": {},
   "outputs": [
    {
     "data": {
      "text/plain": [
       "<AxesSubplot:xlabel='NCP', ylabel='count'>"
      ]
     },
     "execution_count": 24,
     "metadata": {},
     "output_type": "execute_result"
    },
    {
     "data": {
      "image/png": "[encoded data removed]",
      "text/plain": [
       "<Figure size 432x288 with 1 Axes>"
      ]
     },
     "metadata": {
      "needs_background": "light"
     },
     "output_type": "display_data"
    }
   ],
   "source": [
    "sns.countplot(x=\"NCP\", hue=\"NObeyesdad\", data=df)"
   ]
  },
  {
   "cell_type": "code",
   "execution_count": 25,
   "id": "f78505d7",
   "metadata": {},
   "outputs": [
    {
     "data": {
      "text/plain": [
       "Sometimes     1761\n",
       "Frequently     236\n",
       "Always          53\n",
       "no              37\n",
       "Name: CAEC, dtype: int64"
      ]
     },
     "execution_count": 25,
     "metadata": {},
     "output_type": "execute_result"
    }
   ],
   "source": [
    "df['CAEC'].value_counts()#Consumption of food between meals"
   ]
  },
  {
   "cell_type": "code",
   "execution_count": 26,
   "id": "91b30385",
   "metadata": {},
   "outputs": [
    {
     "data": {
      "text/plain": [
       "<AxesSubplot:xlabel='CAEC', ylabel='count'>"
      ]
     },
     "execution_count": 26,
     "metadata": {},
     "output_type": "execute_result"
    },
    {
     "data": {
      "image/png": "[encoded data removed]",
      "text/plain": [
       "<Figure size 432x288 with 1 Axes>"
      ]
     },
     "metadata": {
      "needs_background": "light"
     },
     "output_type": "display_data"
    }
   ],
   "source": [
    "sns.countplot(x=\"CAEC\", hue=\"NObeyesdad\", data=df)"
   ]
  },
  {
   "cell_type": "code",
   "execution_count": 27,
   "id": "843b40df",
   "metadata": {},
   "outputs": [
    {
     "data": {
      "text/plain": [
       "no     2043\n",
       "yes      44\n",
       "Name: SMOKE, dtype: int64"
      ]
     },
     "execution_count": 27,
     "metadata": {},
     "output_type": "execute_result"
    }
   ],
   "source": [
    "df['SMOKE'].value_counts()"
   ]
  },
  {
   "cell_type": "code",
   "execution_count": 28,
   "id": "2ad23b59",
   "metadata": {},
   "outputs": [
    {
     "data": {
      "text/plain": [
       "<AxesSubplot:xlabel='SMOKE', ylabel='count'>"
      ]
     },
     "execution_count": 28,
     "metadata": {},
     "output_type": "execute_result"
    },
    {
     "data": {
      "image/png": "[encoded data removed]",
      "text/plain": [
       "<Figure size 432x288 with 1 Axes>"
      ]
     },
     "metadata": {
      "needs_background": "light"
     },
     "output_type": "display_data"
    }
   ],
   "source": [
    "sns.countplot(x=\"SMOKE\", hue=\"NObeyesdad\", data=df)"
   ]
  },
  {
   "cell_type": "code",
   "execution_count": 29,
   "id": "83207173",
   "metadata": {},
   "outputs": [],
   "source": [
    "df['CH2O']=df['CH2O'].round(decimals=0)#consumption of Water Daily"
   ]
  },
  {
   "cell_type": "code",
   "execution_count": 30,
   "id": "5089e477",
   "metadata": {},
   "outputs": [
    {
     "data": {
      "text/plain": [
       "2.0    1107\n",
       "3.0     502\n",
       "1.0     478\n",
       "Name: CH2O, dtype: int64"
      ]
     },
     "execution_count": 30,
     "metadata": {},
     "output_type": "execute_result"
    }
   ],
   "source": [
    "df['CH2O'].value_counts()"
   ]
  },
  {
   "cell_type": "code",
   "execution_count": 31,
   "id": "50e27889",
   "metadata": {},
   "outputs": [
    {
     "data": {
      "text/plain": [
       "<AxesSubplot:xlabel='CH2O', ylabel='count'>"
      ]
     },
     "execution_count": 31,
     "metadata": {},
     "output_type": "execute_result"
    },
    {
     "data": {
      "image/png": "[encoded data removed]",
      "text/plain": [
       "<Figure size 432x288 with 1 Axes>"
      ]
     },
     "metadata": {
      "needs_background": "light"
     },
     "output_type": "display_data"
    }
   ],
   "source": [
    "sns.countplot(x=\"CH2O\", hue=\"NObeyesdad\", data=df)"
   ]
  },
  {
   "cell_type": "code",
   "execution_count": 32,
   "id": "730bfbaa",
   "metadata": {},
   "outputs": [
    {
     "data": {
      "text/plain": [
       "no     1991\n",
       "yes      96\n",
       "Name: SCC, dtype: int64"
      ]
     },
     "execution_count": 32,
     "metadata": {},
     "output_type": "execute_result"
    }
   ],
   "source": [
    "df['SCC'].value_counts()#Calories consumption monitoring"
   ]
  },
  {
   "cell_type": "code",
   "execution_count": 33,
   "id": "2bf80b3b",
   "metadata": {},
   "outputs": [
    {
     "data": {
      "text/plain": [
       "<AxesSubplot:xlabel='SCC', ylabel='count'>"
      ]
     },
     "execution_count": 33,
     "metadata": {},
     "output_type": "execute_result"
    },
    {
     "data": {
      "image/png": "[encoded data removed]",
      "text/plain": [
       "<Figure size 432x288 with 1 Axes>"
      ]
     },
     "metadata": {
      "needs_background": "light"
     },
     "output_type": "display_data"
    }
   ],
   "source": [
    "sns.countplot(x=\"SCC\", hue=\"NObeyesdad\", data=df)"
   ]
  },
  {
   "cell_type": "code",
   "execution_count": 34,
   "id": "2ef74592",
   "metadata": {},
   "outputs": [],
   "source": [
    "df['FAF']=df['FAF'].round(decimals=0)"
   ]
  },
  {
   "cell_type": "code",
   "execution_count": 35,
   "id": "0bcdb02f",
   "metadata": {},
   "outputs": [
    {
     "data": {
      "text/plain": [
       "1.0    759\n",
       "0.0    714\n",
       "2.0    495\n",
       "3.0    119\n",
       "Name: FAF, dtype: int64"
      ]
     },
     "execution_count": 35,
     "metadata": {},
     "output_type": "execute_result"
    }
   ],
   "source": [
    "df['FAF'].value_counts()"
   ]
  },
  {
   "cell_type": "code",
   "execution_count": 36,
   "id": "2c47e78e",
   "metadata": {},
   "outputs": [
    {
     "data": {
      "text/plain": [
       "<AxesSubplot:xlabel='FAF', ylabel='count'>"
      ]
     },
     "execution_count": 36,
     "metadata": {},
     "output_type": "execute_result"
    },
    {
     "data": {
      "image/png": "[encoded data removed]",
      "text/plain": [
       "<Figure size 432x288 with 1 Axes>"
      ]
     },
     "metadata": {
      "needs_background": "light"
     },
     "output_type": "display_data"
    }
   ],
   "source": [
    "sns.countplot(x=\"FAF\", hue=\"NObeyesdad\", data=df)#Physical Activity Frequency"
   ]
  },
  {
   "cell_type": "code",
   "execution_count": 37,
   "id": "7bf0599d",
   "metadata": {},
   "outputs": [],
   "source": [
    "df['TUE']=df['TUE'].round(decimals=0)"
   ]
  },
  {
   "cell_type": "code",
   "execution_count": 38,
   "id": "9505865b",
   "metadata": {},
   "outputs": [
    {
     "data": {
      "text/plain": [
       "0.0    932\n",
       "1.0    912\n",
       "2.0    243\n",
       "Name: TUE, dtype: int64"
      ]
     },
     "execution_count": 38,
     "metadata": {},
     "output_type": "execute_result"
    }
   ],
   "source": [
    "df['TUE'].value_counts()#Time Using Technology Devices"
   ]
  },
  {
   "cell_type": "code",
   "execution_count": 39,
   "id": "ecf1c3dd",
   "metadata": {},
   "outputs": [
    {
     "data": {
      "text/plain": [
       "<AxesSubplot:xlabel='TUE', ylabel='count'>"
      ]
     },
     "execution_count": 39,
     "metadata": {},
     "output_type": "execute_result"
    },
    {
     "data": {
      "image/png": "[encoded data removed]",
      "text/plain": [
       "<Figure size 432x288 with 1 Axes>"
      ]
     },
     "metadata": {
      "needs_background": "light"
     },
     "output_type": "display_data"
    }
   ],
   "source": [
    "sns.countplot(x=\"TUE\", hue=\"NObeyesdad\", data=df)"
   ]
  },
  {
   "cell_type": "code",
   "execution_count": 40,
   "id": "a91e2ed5",
   "metadata": {},
   "outputs": [
    {
     "data": {
      "text/plain": [
       "Sometimes     1380\n",
       "no             636\n",
       "Frequently      70\n",
       "Always           1\n",
       "Name: CALC, dtype: int64"
      ]
     },
     "execution_count": 40,
     "metadata": {},
     "output_type": "execute_result"
    }
   ],
   "source": [
    "df['CALC'].value_counts()#consumption of alcohol"
   ]
  },
  {
   "cell_type": "code",
   "execution_count": 41,
   "id": "e8f06955",
   "metadata": {},
   "outputs": [
    {
     "data": {
      "text/plain": [
       "<AxesSubplot:xlabel='CALC', ylabel='count'>"
      ]
     },
     "execution_count": 41,
     "metadata": {},
     "output_type": "execute_result"
    },
    {
     "data": {
      "image/png": "[encoded data removed]",
      "text/plain": [
       "<Figure size 432x288 with 1 Axes>"
      ]
     },
     "metadata": {
      "needs_background": "light"
     },
     "output_type": "display_data"
    }
   ],
   "source": [
    "sns.countplot(x=\"CALC\", hue=\"NObeyesdad\", data=df)"
   ]
  },
  {
   "cell_type": "code",
   "execution_count": 42,
   "id": "468ab377",
   "metadata": {
    "scrolled": false
   },
   "outputs": [
    {
     "data": {
      "text/plain": [
       "Public_Transportation    1558\n",
       "Automobile                456\n",
       "Walking                    55\n",
       "Motorbike                  11\n",
       "Bike                        7\n",
       "Name: MTRANS, dtype: int64"
      ]
     },
     "execution_count": 42,
     "metadata": {},
     "output_type": "execute_result"
    }
   ],
   "source": [
    "df['MTRANS'].value_counts()#Transportation used"
   ]
  },
  {
   "cell_type": "code",
   "execution_count": 43,
   "id": "7372584d",
   "metadata": {},
   "outputs": [
    {
     "data": {
      "text/plain": [
       "<AxesSubplot:xlabel='MTRANS', ylabel='count'>"
      ]
     },
     "execution_count": 43,
     "metadata": {},
     "output_type": "execute_result"
    },
    {
     "data": {
      "image/png": "[encoded data removed]",
      "text/plain": [
       "<Figure size 432x288 with 1 Axes>"
      ]
     },
     "metadata": {
      "needs_background": "light"
     },
     "output_type": "display_data"
    }
   ],
   "source": [
    "sns.countplot(x=\"MTRANS\", hue=\"NObeyesdad\", data=df)"
   ]
  },
  {
   "cell_type": "code",
   "execution_count": 44,
   "id": "c77b7e35",
   "metadata": {},
   "outputs": [],
   "source": [
    "#df.drop(['MTRANS','SMOKE','CAEC','SCC'], axis=1, inplace=True)# delete columns which are not very relevant"
   ]
  },
  {
   "cell_type": "code",
   "execution_count": 45,
   "id": "3d69ff82",
   "metadata": {},
   "outputs": [
    {
     "data": {
      "text/plain": [
       "Index(['Gender', 'Age', 'Height', 'Weight', 'family_history_with_overweight',\n",
       "       'FAVC', 'FCVC', 'NCP', 'CAEC', 'SMOKE', 'CH2O', 'SCC', 'FAF', 'TUE',\n",
       "       'CALC', 'MTRANS', 'NObeyesdad'],\n",
       "      dtype='object')"
      ]
     },
     "execution_count": 45,
     "metadata": {},
     "output_type": "execute_result"
    }
   ],
   "source": [
    "df.columns"
   ]
  },
  {
   "cell_type": "code",
   "execution_count": 46,
   "id": "b325e9ec",
   "metadata": {},
   "outputs": [],
   "source": [
    "corrections1= {'Male':1, 'Female':0}\n",
    "df['Gender'] = df['Gender'].replace(corrections1)"
   ]
  },
  {
   "cell_type": "code",
   "execution_count": 47,
   "id": "e21a15d8",
   "metadata": {},
   "outputs": [],
   "source": [
    "corrections2= {'yes':1, 'no':0}\n",
    "df['family_history_with_overweight'] = df['family_history_with_overweight'].replace(corrections2)"
   ]
  },
  {
   "cell_type": "code",
   "execution_count": 48,
   "id": "93fc467f",
   "metadata": {},
   "outputs": [],
   "source": [
    "corrections3= {'no':1, 'Sometimes':2, 'Frequently': 3,'Always':4}\n",
    "df['CAEC'] = df['CAEC'].replace(corrections3)"
   ]
  },
  {
   "cell_type": "code",
   "execution_count": 49,
   "id": "0cfdff7d",
   "metadata": {},
   "outputs": [],
   "source": [
    "corrections4= {'yes':1, 'no':0}\n",
    "df['SMOKE'] = df['SMOKE'].replace(corrections4)"
   ]
  },
  {
   "cell_type": "code",
   "execution_count": 50,
   "id": "0b5f30ca",
   "metadata": {},
   "outputs": [],
   "source": [
    "corrections5= {'yes':1, 'no':0}\n",
    "df['FAVC'] = df['FAVC'].replace(corrections5)"
   ]
  },
  {
   "cell_type": "code",
   "execution_count": 51,
   "id": "edd1975d",
   "metadata": {},
   "outputs": [],
   "source": [
    "corrections6= {'yes':1, 'no':0}\n",
    "df['SCC'] = df['SCC'].replace(corrections6)"
   ]
  },
  {
   "cell_type": "code",
   "execution_count": 52,
   "id": "cc2aa3f0",
   "metadata": {},
   "outputs": [],
   "source": [
    "corrections7= {'no':1, 'Sometimes':2, 'Frequently': 3,'Always':4}\n",
    "df['CALC'] = df['CALC'].replace(corrections7)"
   ]
  },
  {
   "cell_type": "code",
   "execution_count": 53,
   "id": "8cdf5929",
   "metadata": {},
   "outputs": [],
   "source": [
    "corrections8= {'Public_Transportation':1, 'Automobile':2, 'Walking': 3, 'Motorbike':4, 'Bike':5}\n",
    "df['MTRANS'] = df['MTRANS'].replace(corrections8)"
   ]
  },
  {
   "cell_type": "code",
   "execution_count": 54,
   "id": "380e82fc",
   "metadata": {},
   "outputs": [],
   "source": [
    "attributes=[\"Gender\", \"Age\", \"Height\", \"Weight\", \"family_history_with_overweight\",\"FAVC\", \"FCVC\", \"NCP\", \"CAEC\", \"SMOKE\",\"CH2O\",\"SCC\", \"FAF\", \"TUE\", \"CALC\",\"MTRANS\",\"NObeyesdad\"]"
   ]
  },
  {
   "cell_type": "code",
   "execution_count": 55,
   "id": "2df30b81",
   "metadata": {},
   "outputs": [],
   "source": [
    "\n",
    "NObeyesdad_map = {'IW':1, 'NW':2, 'OLI':3, 'OLII':4, 'OTI':5, 'OTII':6, 'OTIII':7}\n",
    "df['NObeyesdad'] = df['NObeyesdad'].map(NObeyesdad_map)"
   ]
  },
  {
   "cell_type": "code",
   "execution_count": 56,
   "id": "238867bc",
   "metadata": {},
   "outputs": [
    {
     "data": {
      "text/plain": [
       "(324, 17)"
      ]
     },
     "execution_count": 56,
     "metadata": {},
     "output_type": "execute_result"
    }
   ],
   "source": [
    "df1=df[df[\"NObeyesdad\"]==1][[\"Gender\", \"Age\", \"Height\", \"Weight\", \"family_history_with_overweight\",\"FAVC\", \"FCVC\", \"NCP\", \"CAEC\", \"SMOKE\",\"CH2O\",\"SCC\", \"FAF\", \"TUE\", \"CALC\",\"MTRANS\",\"NObeyesdad\"]]\n",
    "df1.shape\n",
    "df2=df[df[\"NObeyesdad\"]==2][[\"Gender\", \"Age\", \"Height\", \"Weight\", \"family_history_with_overweight\",\"FAVC\", \"FCVC\", \"NCP\", \"CAEC\", \"SMOKE\",\"CH2O\",\"SCC\", \"FAF\", \"TUE\", \"CALC\",\"MTRANS\",\"NObeyesdad\"]]\n",
    "df2.shape\n",
    "df3=df[df[\"NObeyesdad\"]==3][[\"Gender\", \"Age\", \"Height\", \"Weight\", \"family_history_with_overweight\",\"FAVC\", \"FCVC\", \"NCP\", \"CAEC\", \"SMOKE\",\"CH2O\",\"SCC\", \"FAF\", \"TUE\", \"CALC\",\"MTRANS\",\"NObeyesdad\"]]\n",
    "df3.shape\n",
    "df4=df[df[\"NObeyesdad\"]==4][[\"Gender\", \"Age\", \"Height\", \"Weight\", \"family_history_with_overweight\",\"FAVC\", \"FCVC\", \"NCP\", \"CAEC\", \"SMOKE\",\"CH2O\",\"SCC\", \"FAF\", \"TUE\", \"CALC\",\"MTRANS\",\"NObeyesdad\"]]\n",
    "df4.shape\n",
    "df5=df[df[\"NObeyesdad\"]==5][[\"Gender\", \"Age\", \"Height\", \"Weight\", \"family_history_with_overweight\",\"FAVC\", \"FCVC\", \"NCP\", \"CAEC\", \"SMOKE\",\"CH2O\",\"SCC\", \"FAF\", \"TUE\", \"CALC\",\"MTRANS\",\"NObeyesdad\"]]\n",
    "df5.shape\n",
    "df6=df[df[\"NObeyesdad\"]==6][[\"Gender\", \"Age\", \"Height\", \"Weight\", \"family_history_with_overweight\",\"FAVC\", \"FCVC\", \"NCP\", \"CAEC\", \"SMOKE\",\"CH2O\",\"SCC\", \"FAF\", \"TUE\", \"CALC\",\"MTRANS\",\"NObeyesdad\"]]\n",
    "df6.shape\n",
    "df7=df[df[\"NObeyesdad\"]==7][[\"Gender\", \"Age\", \"Height\", \"Weight\", \"family_history_with_overweight\",\"FAVC\", \"FCVC\", \"NCP\", \"CAEC\", \"SMOKE\",\"CH2O\",\"SCC\", \"FAF\", \"TUE\", \"CALC\",\"MTRANS\",\"NObeyesdad\"]]\n",
    "df7.shape\n",
    "\n",
    "\n",
    "\n",
    "\n",
    "     \n"
   ]
  },
  {
   "cell_type": "code",
   "execution_count": 57,
   "id": "c1896641",
   "metadata": {},
   "outputs": [
    {
     "data": {
      "text/plain": [
       "1    1558\n",
       "2     456\n",
       "3      55\n",
       "4      11\n",
       "5       7\n",
       "Name: MTRANS, dtype: int64"
      ]
     },
     "execution_count": 57,
     "metadata": {},
     "output_type": "execute_result"
    }
   ],
   "source": [
    "df['MTRANS'].value_counts()"
   ]
  },
  {
   "cell_type": "code",
   "execution_count": 58,
   "id": "8309079a",
   "metadata": {},
   "outputs": [
    {
     "name": "stdout",
     "output_type": "stream",
     "text": [
      "Gender:  -0.031919921680758946\n",
      "Age:  0.2792305381751142\n",
      "Height:  0.12486287925740679\n",
      "Weight:  0.9124530170421005\n",
      "family_history_with_overweight:  0.5033735794018178\n",
      "FAVC:  0.24992663312265712\n",
      "FCVC:  0.19613872455802975\n",
      "NCP:  0.005712288760834162\n",
      "CAEC:  -0.34220539017500456\n",
      "SMOKE:  0.0019843306040487323\n",
      "CH2O:  0.13908259814500265\n",
      "SCC:  -0.1978191536642808\n",
      "FAF:  -0.2029471518310146\n",
      "TUE:  -0.08592477756230028\n",
      "CALC:  0.1552995739401481\n",
      "MTRANS:  -0.1267807282041076\n",
      "NObeyesdad:  1.0\n"
     ]
    }
   ],
   "source": [
    "for c in attributes:\n",
    "    corr= np.corrcoef(df[c], df[\"NObeyesdad\"])[0][1]\n",
    "    print(c +\": \" , corr)\n"
   ]
  },
  {
   "cell_type": "code",
   "execution_count": 59,
   "id": "ecaeb5da",
   "metadata": {},
   "outputs": [],
   "source": [
    "df.drop(['Gender','MTRANS','SMOKE','NCP','TUE'], axis=1, inplace=True)"
   ]
  },
  {
   "cell_type": "code",
   "execution_count": 88,
   "id": "dcc576b1",
   "metadata": {},
   "outputs": [
    {
     "data": {
      "image/png": "[encoded data removed]",
      "text/plain": [
       "<Figure size 864x288 with 3 Axes>"
      ]
     },
     "metadata": {
      "needs_background": "light"
     },
     "output_type": "display_data"
    }
   ],
   "source": [
    "\n",
    "\n",
    "fig, axs = plt.subplots(1,3, figsize=(12,4))\n",
    "attributesplt=[\"Age\", \"Height\", \"Weight\"]\n",
    "for j in range(3):\n",
    "        k = j\n",
    "        attr = attributesplt[k]\n",
    "        ax = axs[j]\n",
    "        ax.boxplot([df1[attr], df2[attr], df3[attr], df4[attr], df5[attr], df6[attr], df7[attr]])\n",
    "        ax.set_title(attr)\n",
    "        ax.set_xticklabels(['1', '2','3','4', '5','6','7'])\n",
    "plt.subplots_adjust(wspace=.25, hspace=.25)       "
   ]
  },
  {
   "cell_type": "code",
   "execution_count": 89,
   "id": "b2abc00d",
   "metadata": {},
   "outputs": [
    {
     "data": {
      "text/plain": [
       "<AxesSubplot:>"
      ]
     },
     "execution_count": 89,
     "metadata": {},
     "output_type": "execute_result"
    },
    {
     "data": {
      "image/png": "[encoded data removed]",
      "text/plain": [
       "<Figure size 432x288 with 2 Axes>"
      ]
     },
     "metadata": {
      "needs_background": "light"
     },
     "output_type": "display_data"
    }
   ],
   "source": [
    "sns.heatmap(df.corr(), annot= True, cmap= 'Reds')"
   ]
  },
  {
   "cell_type": "markdown",
   "id": "58810eae",
   "metadata": {},
   "source": [
    "Statistical Analysis\n",
    "\n",
    "Perform a t-test to examine a hypothesis that says: the average age of deceased patients is greater than 60 years, with a 99% confidence level.\n",
    "\n",
    "First select the suitable sample, and set the significance level. Then, choose which function and parameters should you use for the t-test. Finally, compare the p-value to the significance level and make the decision, and interpret "
   ]
  },
  {
   "cell_type": "code",
   "execution_count": null,
   "id": "a54b2b42",
   "metadata": {},
   "outputs": [],
   "source": []
  },
  {
   "cell_type": "code",
   "execution_count": 134,
   "id": "58f5d113",
   "metadata": {},
   "outputs": [
    {
     "name": "stdout",
     "output_type": "stream",
     "text": [
      "1538 25.624094864759435\n",
      "P-value:  1.0\n",
      "t-statistic:  -206.78000283637195\n",
      "we fail to reject the null hypothesis\n"
     ]
    }
   ],
   "source": [
    "X= df[df[\"NObeyesdad\"]>2][\"Age\"]\n",
    "print(len(X), X.mean())\n",
    "\n",
    "alpha=0.01\n",
    "\n",
    "tsat, pval= stats.ttest_1samp(a=X, popmean=60, alternative=\"greater\")\n",
    "print(\"P-value: \", pval)\n",
    "print(\"t-statistic: \", tsat)\n",
    "\n",
    "if pval <alpha:\n",
    "    print(\"we reject the null hypothesis\")\n",
    "else:\n",
    "    print(\"we fail to reject the null hypothesis\")\n"
   ]
  },
  {
   "cell_type": "code",
   "execution_count": 96,
   "id": "574fb2bb",
   "metadata": {},
   "outputs": [
    {
     "name": "stdout",
     "output_type": "stream",
     "text": [
      "267 19.7716872846442\n",
      "1538 25.624094864759435\n",
      "P-value:  6.956827152071336e-45\n",
      "t-statistic:  -14.45341555936406\n",
      "we reject the null hypothesis\n"
     ]
    }
   ],
   "source": [
    "\n",
    "\n",
    "A=df[df[\"NObeyesdad\"]<2][\"Age\"]\n",
    "B=df[df[\"NObeyesdad\"]>2][\"Age\"]\n",
    "print(len(A), A.mean())\n",
    "print(len(B), B.mean())\n",
    "\n",
    "alpha=0.01\n",
    "\n",
    "tsat, pval= stats.ttest_ind(a=A, b=B, alternative=\"two-sided\")\n",
    "print(\"P-value: \", pval)\n",
    "print(\"t-statistic: \", tsat)\n",
    "\n",
    "if pval<alpha:\n",
    "    print(\"we reject the null hypothesis\")\n",
    "else:\n",
    "    print(\"we fail to reject the null hypothesis\")\n",
    "\n",
    "\n",
    "\n",
    "     \n"
   ]
  },
  {
   "cell_type": "code",
   "execution_count": 97,
   "id": "d54b8527",
   "metadata": {},
   "outputs": [
    {
     "name": "stdout",
     "output_type": "stream",
     "text": [
      "267 1.6935724831460655\n",
      "1538 1.708970767230169\n",
      "t-statistic:  -2.5206166844287803\n",
      "P-value:  0.9940996929259475\n",
      "we fail to reject the null hypothesis\n"
     ]
    }
   ],
   "source": [
    "C= df[df[\"NObeyesdad\"]<2][\"Height\"]\n",
    "D= df[df[\"NObeyesdad\"]>2][\"Height\"]\n",
    "\n",
    "print(len(C), C.mean())\n",
    "print(len(D), D.mean())\n",
    "\n",
    "alpha=0.01\n",
    "\n",
    "tsat, pval= stats.ttest_ind(a=C, b=D, alternative=\"greater\")\n",
    "print(\"t-statistic: \", tsat)\n",
    "print(\"P-value: \", pval)\n",
    "\n",
    "if pval<alpha:\n",
    "    print(\"we reject the null hypothesis\")\n",
    "else:\n",
    "    print(\"we fail to reject the null hypothesis\")\n"
   ]
  },
  {
   "cell_type": "code",
   "execution_count": 99,
   "id": "1d5956eb",
   "metadata": {},
   "outputs": [
    {
     "name": "stdout",
     "output_type": "stream",
     "text": [
      "267 0.8127340823970037\n",
      "1538 0.9252275682704811\n",
      "t-statistic:  -5.941633030572718\n",
      "P-value:  0.9999999983104614\n",
      "we fail to reject the null hypothesis\n"
     ]
    }
   ],
   "source": [
    "E= df[df[\"NObeyesdad\"]<2][\"FAVC\"]\n",
    "F= df[df[\"NObeyesdad\"]>2][\"FAVC\"]\n",
    "\n",
    "print(len(E), E.mean())\n",
    "print(len(F), F.mean())\n",
    "\n",
    "alpha=0.01\n",
    "\n",
    "tsat, pval= stats.ttest_ind(a=E, b=F, alternative=\"greater\")\n",
    "print(\"t-statistic: \", tsat)\n",
    "print(\"P-value: \", pval)\n",
    "\n",
    "if pval<alpha:\n",
    "    print(\"we reject the null hypothesis\")\n",
    "else:\n",
    "    print(\"we fail to reject the null hypothesis\")\n"
   ]
  },
  {
   "cell_type": "code",
   "execution_count": 100,
   "id": "5d27c376",
   "metadata": {},
   "outputs": [
    {
     "data": {
      "text/html": [
       "<div>\n",
       "<style scoped>\n",
       "    .dataframe tbody tr th:only-of-type {\n",
       "        vertical-align: middle;\n",
       "    }\n",
       "\n",
       "    .dataframe tbody tr th {\n",
       "        vertical-align: top;\n",
       "    }\n",
       "\n",
       "    .dataframe thead th {\n",
       "        text-align: right;\n",
       "    }\n",
       "</style>\n",
       "<table border=\"1\" class=\"dataframe\">\n",
       "  <thead>\n",
       "    <tr style=\"text-align: right;\">\n",
       "      <th>NObeyesdad</th>\n",
       "      <th>1</th>\n",
       "      <th>2</th>\n",
       "      <th>3</th>\n",
       "      <th>4</th>\n",
       "      <th>5</th>\n",
       "      <th>6</th>\n",
       "      <th>7</th>\n",
       "    </tr>\n",
       "    <tr>\n",
       "      <th>family_history_with_overweight</th>\n",
       "      <th></th>\n",
       "      <th></th>\n",
       "      <th></th>\n",
       "      <th></th>\n",
       "      <th></th>\n",
       "      <th></th>\n",
       "      <th></th>\n",
       "    </tr>\n",
       "  </thead>\n",
       "  <tbody>\n",
       "    <tr>\n",
       "      <th>0</th>\n",
       "      <td>142</td>\n",
       "      <td>130</td>\n",
       "      <td>67</td>\n",
       "      <td>18</td>\n",
       "      <td>7</td>\n",
       "      <td>1</td>\n",
       "      <td>0</td>\n",
       "    </tr>\n",
       "    <tr>\n",
       "      <th>1</th>\n",
       "      <td>125</td>\n",
       "      <td>152</td>\n",
       "      <td>209</td>\n",
       "      <td>272</td>\n",
       "      <td>344</td>\n",
       "      <td>296</td>\n",
       "      <td>324</td>\n",
       "    </tr>\n",
       "  </tbody>\n",
       "</table>\n",
       "</div>"
      ],
      "text/plain": [
       "NObeyesdad                        1    2    3    4    5    6    7\n",
       "family_history_with_overweight                                   \n",
       "0                               142  130   67   18    7    1    0\n",
       "1                               125  152  209  272  344  296  324"
      ]
     },
     "execution_count": 100,
     "metadata": {},
     "output_type": "execute_result"
    }
   ],
   "source": [
    "\n",
    "df1=pd.crosstab(df[\"family_history_with_overweight\"], df[\"NObeyesdad\"])\n",
    "df1\n"
   ]
  },
  {
   "cell_type": "code",
   "execution_count": 101,
   "id": "db3e7fc8",
   "metadata": {},
   "outputs": [
    {
     "name": "stdout",
     "output_type": "stream",
     "text": [
      "chi2 stat:  617.7109928294773\n",
      "P-value:  3.524156108703611e-130\n",
      "degree of freedom:  6\n",
      "Expected values: \n",
      " [[ 46.69621466  49.31959751  48.27024437  50.71873503  61.3871586\n",
      "   51.94298035  56.66506948]\n",
      " [220.30378534 232.68040249 227.72975563 239.28126497 289.6128414\n",
      "  245.05701965 267.33493052]]\n",
      "we reject the null hypothesis Ho (Categories are dependent)\n"
     ]
    }
   ],
   "source": [
    "chi2stat, pval, dof, expected= stats.chi2_contingency(df1)\n",
    "print(\"chi2 stat: \", chi2stat)\n",
    "print(\"P-value: \", pval)\n",
    "print(\"degree of freedom: \", dof)\n",
    "print(\"Expected values: \\n\", expected)\n",
    "\n",
    "alpha=0.05\n",
    "\n",
    "if pval<alpha:\n",
    "    print(\"we reject the null hypothesis Ho (Categories are dependent)\")\n",
    "else:\n",
    "          print(\"we fail to reject the null hypothesis (Categories are independent)\")"
   ]
  },
  {
   "cell_type": "code",
   "execution_count": 103,
   "id": "25a6f18c",
   "metadata": {},
   "outputs": [
    {
     "data": {
      "text/html": [
       "<div>\n",
       "<style scoped>\n",
       "    .dataframe tbody tr th:only-of-type {\n",
       "        vertical-align: middle;\n",
       "    }\n",
       "\n",
       "    .dataframe tbody tr th {\n",
       "        vertical-align: top;\n",
       "    }\n",
       "\n",
       "    .dataframe thead th {\n",
       "        text-align: right;\n",
       "    }\n",
       "</style>\n",
       "<table border=\"1\" class=\"dataframe\">\n",
       "  <thead>\n",
       "    <tr style=\"text-align: right;\">\n",
       "      <th>NObeyesdad</th>\n",
       "      <th>1</th>\n",
       "      <th>2</th>\n",
       "      <th>3</th>\n",
       "      <th>4</th>\n",
       "      <th>5</th>\n",
       "      <th>6</th>\n",
       "      <th>7</th>\n",
       "    </tr>\n",
       "    <tr>\n",
       "      <th>CALC</th>\n",
       "      <th></th>\n",
       "      <th></th>\n",
       "      <th></th>\n",
       "      <th></th>\n",
       "      <th></th>\n",
       "      <th></th>\n",
       "      <th></th>\n",
       "    </tr>\n",
       "  </thead>\n",
       "  <tbody>\n",
       "    <tr>\n",
       "      <th>1</th>\n",
       "      <td>117</td>\n",
       "      <td>104</td>\n",
       "      <td>50</td>\n",
       "      <td>128</td>\n",
       "      <td>165</td>\n",
       "      <td>71</td>\n",
       "      <td>1</td>\n",
       "    </tr>\n",
       "    <tr>\n",
       "      <th>2</th>\n",
       "      <td>149</td>\n",
       "      <td>159</td>\n",
       "      <td>210</td>\n",
       "      <td>143</td>\n",
       "      <td>172</td>\n",
       "      <td>224</td>\n",
       "      <td>323</td>\n",
       "    </tr>\n",
       "    <tr>\n",
       "      <th>3</th>\n",
       "      <td>1</td>\n",
       "      <td>18</td>\n",
       "      <td>16</td>\n",
       "      <td>19</td>\n",
       "      <td>14</td>\n",
       "      <td>2</td>\n",
       "      <td>0</td>\n",
       "    </tr>\n",
       "    <tr>\n",
       "      <th>4</th>\n",
       "      <td>0</td>\n",
       "      <td>1</td>\n",
       "      <td>0</td>\n",
       "      <td>0</td>\n",
       "      <td>0</td>\n",
       "      <td>0</td>\n",
       "      <td>0</td>\n",
       "    </tr>\n",
       "  </tbody>\n",
       "</table>\n",
       "</div>"
      ],
      "text/plain": [
       "NObeyesdad    1    2    3    4    5    6    7\n",
       "CALC                                         \n",
       "1           117  104   50  128  165   71    1\n",
       "2           149  159  210  143  172  224  323\n",
       "3             1   18   16   19   14    2    0\n",
       "4             0    1    0    0    0    0    0"
      ]
     },
     "execution_count": 103,
     "metadata": {},
     "output_type": "execute_result"
    }
   ],
   "source": [
    "\n",
    "df2=pd.crosstab(df[\"CALC\"], df[\"NObeyesdad\"])\n",
    "df2\n"
   ]
  },
  {
   "cell_type": "code",
   "execution_count": 104,
   "id": "6a4390ea",
   "metadata": {},
   "outputs": [
    {
     "name": "stdout",
     "output_type": "stream",
     "text": [
      "chi2 stat:  335.5649286015763\n",
      "P-value:  2.22093967310428e-60\n",
      "degree of freedom:  18\n",
      "Expected values: \n",
      " [[8.13665549e+01 8.59377096e+01 8.41092477e+01 8.83756588e+01\n",
      "  1.06965022e+02 9.05088644e+01 9.87369430e+01]\n",
      " [1.76550072e+02 1.86468615e+02 1.82501198e+02 1.91758505e+02\n",
      "  2.32093915e+02 1.96387159e+02 2.14240537e+02]\n",
      " [8.95543843e+00 9.45855295e+00 9.25730714e+00 9.72688069e+00\n",
      "  1.17728797e+01 9.96166747e+00 1.08672736e+01]\n",
      " [1.27934835e-01 1.35122185e-01 1.32247245e-01 1.38955438e-01\n",
      "  1.68183996e-01 1.42309535e-01 1.55246766e-01]]\n",
      "we reject the null hypothesis Ho (Categories are dependent)\n"
     ]
    }
   ],
   "source": [
    "chi2stat, pval, dof, expected= stats.chi2_contingency(df2)\n",
    "print(\"chi2 stat: \", chi2stat)\n",
    "print(\"P-value: \", pval)\n",
    "print(\"degree of freedom: \", dof)\n",
    "print(\"Expected values: \\n\", expected)\n",
    "\n",
    "alpha=0.05\n",
    "\n",
    "if pval<alpha:\n",
    "    print(\"we reject the null hypothesis Ho (Categories are dependent)\")\n",
    "else:\n",
    "    print(\"we fail to reject the null hypothesis (Categories are independent)\")\n"
   ]
  },
  {
   "cell_type": "code",
   "execution_count": null,
   "id": "d14fa1fa",
   "metadata": {},
   "outputs": [],
   "source": []
  },
  {
   "cell_type": "markdown",
   "id": "36c6358c",
   "metadata": {},
   "source": [
    "Machine learning "
   ]
  },
  {
   "cell_type": "markdown",
   "id": "9e1b8875",
   "metadata": {},
   "source": [
    "Data transform"
   ]
  },
  {
   "cell_type": "code",
   "execution_count": 105,
   "id": "26f1be42",
   "metadata": {},
   "outputs": [],
   "source": [
    "scaled_data= MinMaxScaler().fit_transform(df.drop(\"NObeyesdad\", axis=1))"
   ]
  },
  {
   "cell_type": "code",
   "execution_count": 106,
   "id": "ba44bdfd",
   "metadata": {},
   "outputs": [],
   "source": [
    "df1=pd.DataFrame(scaled_data, columns=df.columns[:-1])"
   ]
  },
  {
   "cell_type": "code",
   "execution_count": 107,
   "id": "1a6af92b",
   "metadata": {
    "scrolled": false
   },
   "outputs": [
    {
     "data": {
      "text/html": [
       "<div>\n",
       "<style scoped>\n",
       "    .dataframe tbody tr th:only-of-type {\n",
       "        vertical-align: middle;\n",
       "    }\n",
       "\n",
       "    .dataframe tbody tr th {\n",
       "        vertical-align: top;\n",
       "    }\n",
       "\n",
       "    .dataframe thead th {\n",
       "        text-align: right;\n",
       "    }\n",
       "</style>\n",
       "<table border=\"1\" class=\"dataframe\">\n",
       "  <thead>\n",
       "    <tr style=\"text-align: right;\">\n",
       "      <th></th>\n",
       "      <th>Age</th>\n",
       "      <th>Height</th>\n",
       "      <th>Weight</th>\n",
       "      <th>family_history_with_overweight</th>\n",
       "      <th>FAVC</th>\n",
       "      <th>FCVC</th>\n",
       "      <th>CAEC</th>\n",
       "      <th>CH2O</th>\n",
       "      <th>SCC</th>\n",
       "      <th>FAF</th>\n",
       "      <th>CALC</th>\n",
       "    </tr>\n",
       "  </thead>\n",
       "  <tbody>\n",
       "    <tr>\n",
       "      <th>0</th>\n",
       "      <td>0.148936</td>\n",
       "      <td>0.320755</td>\n",
       "      <td>0.186567</td>\n",
       "      <td>1.0</td>\n",
       "      <td>0.0</td>\n",
       "      <td>0.5</td>\n",
       "      <td>0.333333</td>\n",
       "      <td>0.5</td>\n",
       "      <td>0.0</td>\n",
       "      <td>0.000000</td>\n",
       "      <td>0.000000</td>\n",
       "    </tr>\n",
       "    <tr>\n",
       "      <th>1</th>\n",
       "      <td>0.148936</td>\n",
       "      <td>0.132075</td>\n",
       "      <td>0.126866</td>\n",
       "      <td>1.0</td>\n",
       "      <td>0.0</td>\n",
       "      <td>1.0</td>\n",
       "      <td>0.333333</td>\n",
       "      <td>1.0</td>\n",
       "      <td>1.0</td>\n",
       "      <td>1.000000</td>\n",
       "      <td>0.333333</td>\n",
       "    </tr>\n",
       "    <tr>\n",
       "      <th>2</th>\n",
       "      <td>0.191489</td>\n",
       "      <td>0.660377</td>\n",
       "      <td>0.283582</td>\n",
       "      <td>1.0</td>\n",
       "      <td>0.0</td>\n",
       "      <td>0.5</td>\n",
       "      <td>0.333333</td>\n",
       "      <td>0.5</td>\n",
       "      <td>0.0</td>\n",
       "      <td>0.666667</td>\n",
       "      <td>0.666667</td>\n",
       "    </tr>\n",
       "    <tr>\n",
       "      <th>3</th>\n",
       "      <td>0.276596</td>\n",
       "      <td>0.660377</td>\n",
       "      <td>0.358209</td>\n",
       "      <td>0.0</td>\n",
       "      <td>0.0</td>\n",
       "      <td>1.0</td>\n",
       "      <td>0.333333</td>\n",
       "      <td>0.5</td>\n",
       "      <td>0.0</td>\n",
       "      <td>0.666667</td>\n",
       "      <td>0.666667</td>\n",
       "    </tr>\n",
       "    <tr>\n",
       "      <th>4</th>\n",
       "      <td>0.170213</td>\n",
       "      <td>0.622642</td>\n",
       "      <td>0.379104</td>\n",
       "      <td>0.0</td>\n",
       "      <td>0.0</td>\n",
       "      <td>0.5</td>\n",
       "      <td>0.333333</td>\n",
       "      <td>0.5</td>\n",
       "      <td>0.0</td>\n",
       "      <td>0.000000</td>\n",
       "      <td>0.333333</td>\n",
       "    </tr>\n",
       "  </tbody>\n",
       "</table>\n",
       "</div>"
      ],
      "text/plain": [
       "        Age    Height    Weight  family_history_with_overweight  FAVC  FCVC  \\\n",
       "0  0.148936  0.320755  0.186567                             1.0   0.0   0.5   \n",
       "1  0.148936  0.132075  0.126866                             1.0   0.0   1.0   \n",
       "2  0.191489  0.660377  0.283582                             1.0   0.0   0.5   \n",
       "3  0.276596  0.660377  0.358209                             0.0   0.0   1.0   \n",
       "4  0.170213  0.622642  0.379104                             0.0   0.0   0.5   \n",
       "\n",
       "       CAEC  CH2O  SCC       FAF      CALC  \n",
       "0  0.333333   0.5  0.0  0.000000  0.000000  \n",
       "1  0.333333   1.0  1.0  1.000000  0.333333  \n",
       "2  0.333333   0.5  0.0  0.666667  0.666667  \n",
       "3  0.333333   0.5  0.0  0.666667  0.666667  \n",
       "4  0.333333   0.5  0.0  0.000000  0.333333  "
      ]
     },
     "execution_count": 107,
     "metadata": {},
     "output_type": "execute_result"
    }
   ],
   "source": [
    "df1.head()"
   ]
  },
  {
   "cell_type": "code",
   "execution_count": null,
   "id": "d73abe08",
   "metadata": {},
   "outputs": [],
   "source": []
  },
  {
   "cell_type": "markdown",
   "id": "a3c80e95",
   "metadata": {},
   "source": [
    "Logistic regression"
   ]
  },
  {
   "cell_type": "code",
   "execution_count": 113,
   "id": "05d40afe",
   "metadata": {},
   "outputs": [],
   "source": [
    "X= df1\n",
    "y=df[\"NObeyesdad\"]"
   ]
  },
  {
   "cell_type": "code",
   "execution_count": 114,
   "id": "4fff4cde",
   "metadata": {},
   "outputs": [],
   "source": [
    "X_train, X_test, y_train, y_test = train_test_split(X, y, test_size=0.2, random_state=100)"
   ]
  },
  {
   "cell_type": "code",
   "execution_count": 115,
   "id": "2ada31e1",
   "metadata": {},
   "outputs": [
    {
     "name": "stderr",
     "output_type": "stream",
     "text": [
      "C:\\Users\\LENOVO\\anaconda3\\Neuer Ordner\\lib\\site-packages\\sklearn\\linear_model\\_logistic.py:814: ConvergenceWarning: lbfgs failed to converge (status=1):\n",
      "STOP: TOTAL NO. of ITERATIONS REACHED LIMIT.\n",
      "\n",
      "Increase the number of iterations (max_iter) or scale the data as shown in:\n",
      "    https://scikit-learn.org/stable/modules/preprocessing.html\n",
      "Please also refer to the documentation for alternative solver options:\n",
      "    https://scikit-learn.org/stable/modules/linear_model.html#logistic-regression\n",
      "  n_iter_i = _check_optimize_result(\n"
     ]
    },
    {
     "data": {
      "text/plain": [
       "0.6962252846015579"
      ]
     },
     "execution_count": 115,
     "metadata": {},
     "output_type": "execute_result"
    }
   ],
   "source": [
    "model= LogisticRegression()\n",
    "model.fit(X_train, y_train)\n",
    "model.score(X_train, y_train)\n"
   ]
  },
  {
   "cell_type": "code",
   "execution_count": 118,
   "id": "97169fc7",
   "metadata": {},
   "outputs": [],
   "source": [
    "l_pred=model.predict(X_test)"
   ]
  },
  {
   "cell_type": "code",
   "execution_count": null,
   "id": "79a29232",
   "metadata": {},
   "outputs": [],
   "source": []
  },
  {
   "cell_type": "code",
   "execution_count": null,
   "id": "c06c63b5",
   "metadata": {},
   "outputs": [],
   "source": []
  },
  {
   "cell_type": "code",
   "execution_count": 121,
   "id": "164e4a76",
   "metadata": {},
   "outputs": [
    {
     "name": "stdout",
     "output_type": "stream",
     "text": [
      "              precision    recall  f1-score   support\n",
      "\n",
      "           1       0.77      0.77      0.77        65\n",
      "           2       0.53      0.35      0.42        55\n",
      "           3       0.50      0.49      0.50        57\n",
      "           4       0.59      0.46      0.52        63\n",
      "           5       0.58      0.84      0.69        62\n",
      "           6       0.84      0.75      0.80        57\n",
      "           7       0.82      1.00      0.90        59\n",
      "\n",
      "    accuracy                           0.67       418\n",
      "   macro avg       0.66      0.67      0.66       418\n",
      "weighted avg       0.66      0.67      0.66       418\n",
      "\n"
     ]
    }
   ],
   "source": [
    "print(classification_report(y_test, l_pred))"
   ]
  },
  {
   "cell_type": "code",
   "execution_count": null,
   "id": "e2fc7f7e",
   "metadata": {},
   "outputs": [],
   "source": [
    "Decision Tree"
   ]
  },
  {
   "cell_type": "code",
   "execution_count": 122,
   "id": "2043dd5e",
   "metadata": {},
   "outputs": [],
   "source": [
    "X_train, X_test, y_train, y_test = train_test_split(X, y, test_size=0.2, random_state=100)"
   ]
  },
  {
   "cell_type": "code",
   "execution_count": 124,
   "id": "62423550",
   "metadata": {},
   "outputs": [
    {
     "data": {
      "text/plain": [
       "1.0"
      ]
     },
     "execution_count": 124,
     "metadata": {},
     "output_type": "execute_result"
    }
   ],
   "source": [
    "model3=DecisionTreeClassifier()\n",
    "model3.fit(X_train, y_train)\n",
    "model3.score(X_train, y_train)"
   ]
  },
  {
   "cell_type": "code",
   "execution_count": 125,
   "id": "b6115b01",
   "metadata": {},
   "outputs": [],
   "source": [
    "d_pred= model3.predict(X_test)"
   ]
  },
  {
   "cell_type": "code",
   "execution_count": 127,
   "id": "69ff5c17",
   "metadata": {},
   "outputs": [
    {
     "name": "stdout",
     "output_type": "stream",
     "text": [
      "              precision    recall  f1-score   support\n",
      "\n",
      "           1       0.97      0.95      0.96        65\n",
      "           2       0.84      0.85      0.85        55\n",
      "           3       0.86      0.84      0.85        57\n",
      "           4       0.92      0.90      0.91        63\n",
      "           5       0.94      0.95      0.94        62\n",
      "           6       0.98      0.98      0.98        57\n",
      "           7       0.98      1.00      0.99        59\n",
      "\n",
      "    accuracy                           0.93       418\n",
      "   macro avg       0.93      0.93      0.93       418\n",
      "weighted avg       0.93      0.93      0.93       418\n",
      "\n"
     ]
    }
   ],
   "source": [
    "print(classification_report(y_test, d_pred))"
   ]
  },
  {
   "cell_type": "markdown",
   "id": "99afa22f",
   "metadata": {},
   "source": [
    "random forest "
   ]
  },
  {
   "cell_type": "code",
   "execution_count": null,
   "id": "47e2a217",
   "metadata": {},
   "outputs": [],
   "source": [
    "X_train, X_test, y_train, y_test = train_test_split(X, y, test_size=0.2, random_state=100)"
   ]
  },
  {
   "cell_type": "code",
   "execution_count": 129,
   "id": "32a421db",
   "metadata": {},
   "outputs": [],
   "source": [
    "model4=RandomForestClassifier(n_estimators=100, max_depth=10)"
   ]
  },
  {
   "cell_type": "code",
   "execution_count": 130,
   "id": "98ae3a6e",
   "metadata": {},
   "outputs": [
    {
     "data": {
      "text/plain": [
       "0.9934092270820851"
      ]
     },
     "execution_count": 130,
     "metadata": {},
     "output_type": "execute_result"
    }
   ],
   "source": [
    "model4.fit(X_train, y_train)\n",
    "model4.score(X_train, y_train)"
   ]
  },
  {
   "cell_type": "code",
   "execution_count": 132,
   "id": "08df23a4",
   "metadata": {},
   "outputs": [],
   "source": [
    "f_pred=model4.predict(X_test)"
   ]
  },
  {
   "cell_type": "code",
   "execution_count": 133,
   "id": "fc8982bb",
   "metadata": {},
   "outputs": [
    {
     "name": "stdout",
     "output_type": "stream",
     "text": [
      "              precision    recall  f1-score   support\n",
      "\n",
      "           1       0.98      0.92      0.95        65\n",
      "           2       0.79      0.84      0.81        55\n",
      "           3       0.83      0.86      0.84        57\n",
      "           4       0.85      0.89      0.87        63\n",
      "           5       0.98      0.94      0.96        62\n",
      "           6       1.00      0.98      0.99        57\n",
      "           7       1.00      1.00      1.00        59\n",
      "\n",
      "    accuracy                           0.92       418\n",
      "   macro avg       0.92      0.92      0.92       418\n",
      "weighted avg       0.92      0.92      0.92       418\n",
      "\n"
     ]
    }
   ],
   "source": [
    "print(classification_report(y_test, f_pred))"
   ]
  }
 ],
 "metadata": {
  "kernelspec": {
   "display_name": "Python 3 (ipykernel)",
   "language": "python",
   "name": "python3"
  },
  "language_info": {
   "codemirror_mode": {
    "name": "ipython",
    "version": 3
   },
   "file_extension": ".py",
   "mimetype": "text/x-python",
   "name": "python",
   "nbconvert_exporter": "python",
   "pygments_lexer": "ipython3",
   "version": "3.9.12"
  }
 },
 "nbformat": 4,
 "nbformat_minor": 5
}
